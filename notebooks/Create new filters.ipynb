{
 "cells": [
  {
   "cell_type": "markdown",
   "metadata": {},
   "source": [
    "# Create a set of synthetic filters\n",
    "\n",
    "In this notebook we create a set of top-hat filters"
   ]
  },
  {
   "cell_type": "code",
   "execution_count": 2,
   "metadata": {},
   "outputs": [
    {
     "name": "stdout",
     "output_type": "stream",
     "text": [
      "/home/jchavesmontero/github/galaxpy/\n"
     ]
    }
   ],
   "source": [
    "# %load first_cell.py\n",
    "%load_ext autoreload\n",
    "%autoreload 2\n",
    "%matplotlib notebook\n",
    "\n",
    "import numpy as np\n",
    "import os\n",
    "import sys\n",
    "import matplotlib.pyplot as plt\n",
    "\n",
    "from astropy.cosmology import FlatLambdaCDM\n",
    "cosmo = FlatLambdaCDM(H0=67.26, \n",
    "                      Om0=0.314, \n",
    "                      Ob0=0.049)\n",
    "\n",
    "from matplotlib import rcParams\n",
    "rcParams['mathtext.fontset'] = 'stix'\n",
    "rcParams['font.family'] = 'STIXGeneral'\n",
    "\n",
    "def ls_level(folder, nlevels):\n",
    "    for ii in range(nlevels):\n",
    "        folder = os.path.dirname(folder)\n",
    "    folder += '/'\n",
    "    return folder\n",
    "\n",
    "path_program = ls_level(os.getcwd(), 1)\n",
    "print(path_program)\n",
    "sys.path.append(path_program)"
   ]
  },
  {
   "cell_type": "code",
   "execution_count": 3,
   "metadata": {},
   "outputs": [],
   "source": [
    "from src.create_filters import create_top_hat_filters"
   ]
  },
  {
   "cell_type": "code",
   "execution_count": 11,
   "metadata": {},
   "outputs": [
    {
     "name": "stdout",
     "output_type": "stream",
     "text": [
      "55 bands were created\n"
     ]
    }
   ],
   "source": [
    "Lres = 50\n",
    "params = {'name_survey': 'test_R_'+str(Lres), \n",
    "          'lambda_res': Lres, \n",
    "          'lambda_in': 3000, \n",
    "          'lambda_out': 9000, \n",
    "          'num_first': 1}\n",
    "create_top_hat_filters(path_program, params)"
   ]
  },
  {
   "cell_type": "code",
   "execution_count": null,
   "metadata": {},
   "outputs": [],
   "source": []
  }
 ],
 "metadata": {
  "kernelspec": {
   "display_name": "Python 3",
   "language": "python",
   "name": "python3"
  },
  "language_info": {
   "codemirror_mode": {
    "name": "ipython",
    "version": 3
   },
   "file_extension": ".py",
   "mimetype": "text/x-python",
   "name": "python",
   "nbconvert_exporter": "python",
   "pygments_lexer": "ipython3",
   "version": "3.7.3"
  }
 },
 "nbformat": 4,
 "nbformat_minor": 2
}
